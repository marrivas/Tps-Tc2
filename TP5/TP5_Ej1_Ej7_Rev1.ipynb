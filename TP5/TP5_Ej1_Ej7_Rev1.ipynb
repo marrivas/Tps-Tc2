{
 "cells": [
  {
   "cell_type": "code",
   "execution_count": 1,
   "id": "6aaed82e-2105-4563-a20a-345f662405f8",
   "metadata": {
    "scrolled": true,
    "tags": []
   },
   "outputs": [
    {
     "data": {
      "text/html": [
       "\n",
       "        <iframe\n",
       "            width=\"500\"\n",
       "            height=\"1500\"\n",
       "            src=\"pdf/TP5 2021 R4052_01.pdf\"\n",
       "            frameborder=\"0\"\n",
       "            allowfullscreen\n",
       "            \n",
       "        ></iframe>\n",
       "        "
      ],
      "text/plain": [
       "<IPython.lib.display.IFrame at 0x17c7278b3d0>"
      ]
     },
     "execution_count": 1,
     "metadata": {},
     "output_type": "execute_result"
    }
   ],
   "source": [
    "from IPython.display import IFrame\n",
    "IFrame(\"pdf/TP5 2021 R4052_01.pdf\", width=500, height=1500)"
   ]
  },
  {
   "cell_type": "markdown",
   "id": "3bc401d5-9219-40bd-9ecb-86344adfef67",
   "metadata": {
    "tags": []
   },
   "source": [
    "# Ejercicio 1\n",
    "\n",
    "A) Definir un valor para la frecuencia de muestreo (𝑓 ) del ADC, justificando su respuesta.\n",
    "\n",
    "Suponiendo que podemos atenuar la fuente por debajo del nivel de ruido en 10KHz podemos elegir una frecuencia de muestreo de 20KHz, evitando así el aliasing. Esto es debido a que nuestra frecuencia de Nyquist sería igual a 10KHz y eligiendo un adc de 20KHz estaríamos cumpliendo la condición mínima del teorema.\n",
    "\n",
    "B) Diseñar un filtro analógico pasa bajo anti alias, esto es, que atenúe las componentes\n",
    "frecuenciales ubicadas por encima de la frecuencia de Nyquist, para evitar efecto alias.\n",
    "Explicar el criterio utilizado para fijar la atenuación en la banda detenida.\n",
    "\n",
    "Necesitamos un filtro pasa-bajos que tenga 40dBV de atenuación en 10KHz. Para simplificar podemos elegir un filtro de segundo órden el cual tenga 3dB de atenuación en 1KHz(corte) y una atenuación de 40dB en 10KHz.\n",
    "\n",
    "Para esto asumimos que las frecuencias de interés están en baja y media frecuencia(debajo de 1KHz) y las frecuencias de más de 1KHz son de interés secundario.\n",
    "\n",
    "![imagen](img/LT_filtro.jpg)\n",
    "\n",
    "![imagen](img/LT_Circuito.jpg)\n",
    "\n",
    "C) Repetir el punto b), pero eligiendo una 𝑓 diez veces más grande a la elegida en \n",
    "\n",
    "Si elegimos una frecuencia de muestreo diéz veces más grande podemos decír que la frecuencia máxima que puede dejar pasar el filtro es de 100KHz. En el gráfico no tenemos datos de como es la señal en este punto, pero podemos asumir siendo muy pesimistas que necesitamos una atenuación de 20dB. Podríamos poner como frecuencia de corte 10KHz y frecuencia de stop en 100KHz. Esto se logra con un filtro de primer órden que puede ser pasivo.\n",
    "\n",
    "![imagen](img/LT_filtro2.jpg)\n",
    "\n",
    "![imagen](img/LT_Circuito2.jpg)\n",
    "\n",
    "a) Comparar ambos filtros anti alias y evaluar las ventajas/desventajas de esta modificación.\n",
    "\n",
    "Los dos son del tipo Butterworth, por lo que tienen características parecidas. El segundo nos permite la posibilidad de mantener alta fidelidad en la señal(podemos poner una frecuencia de corte mucho más grande), a su vez la distorsión de fase del primer filtro es múcho mas grande debido a que en un filtro del tipo Butterworth tenemos mucha alinealidad en la fase en las cercanías de la frecuencia de corte.\n",
    "\n",
    "![imagen](img/LT_filtro_GrpDelay.jpg)\n",
    "\n",
    "**Gráfico del retardo de grupo para el filtro con frecuencia de corte en 1KHz**\n",
    "\n",
    "---\n",
    "\n",
    "D) Repetir el punto b), pero considerando que se requiere una fase aprox. lineal hasta 10 kHz.\n",
    "\n",
    "Para esto necesitamos implementar un filtro de Bessel que tenga frecuencia de corte en 10Khz. Para no ser tan pesimistas proponemos un filtro que tenga su frecuencia de stop en 100KHz con una atenuación de 20dB. Esto nos permite calcular el filtro bessel, quedando la siguiente configuración:\n",
    "\n",
    "**Ganancia:**\n",
    "\n",
    "![imagen](img/LT_filtro_Bessel.jpg)\n",
    "\n",
    "**Fase:**\n",
    "\n",
    "![imagen](img/LT_filtro_Bessel_Fase.jpg)\n",
    "\n",
    "**Cicruito:**\n",
    "\n",
    "![imagen](img/LT_Circuito_Bessel.jpg)\n"
   ]
  },
  {
   "cell_type": "markdown",
   "id": "954d0252-36b1-45b3-aab6-c208fd61de96",
   "metadata": {},
   "source": [
    "# Ejercicio 7\n",
    "\n",
    "![imagen](img/7.1.jpg)\n",
    "\n",
    "Mirando la imagen podemos decir que:\n",
    "\n",
    "$$a_0x(n)+a_1x(n-1)+a_2x(n-2)=y(n)+b_1y(n-1)+b_2y(n-2)$$\n",
    "\n",
    "$$H(Z) = \\frac{a_0+a_1Z^{-1}+a_2Z^{-2}}{1+b_1Z^{-1}+b_2Z^{-2}}$$\n",
    "\n",
    "**Esto es un filtro del tipo iir**\n",
    "\n",
    "![imagen](img/7.2.jpg)\n",
    "\n",
    "Para esto vamos a calcular una señal auxiliar para simplificar el álgebra.\n",
    "\n",
    "$$o(n) = x(n) - b_1o(n-1) - b_2o(n-2)$$\n",
    "\n",
    "$$O(Z) = X(Z) - b_1O(Z)Z^{-1} - b_2O(Z)Z^{-2}$$\n",
    "\n",
    "$$O(Z) = X(Z)\\frac{1}{1+ b_1Z^{-1} + b_2Z^{-2}}$$\n",
    "\n",
    "$$y(n) = a_0o(n) + a_1o(n-1) + a_2o(n-2)$$\n",
    "\n",
    "$$Y(Z) = a_0O(Z) + a_1O(Z)Z^{-1} + a_2O(Z)Z^{-2}$$\n",
    "\n",
    "$$Y(Z) = O(Z)(a_0 + a_1Z^{-1} + a_2Z^{-2})$$\n",
    "\n",
    "$$H(Z) = \\frac{a_0+a_1Z^{-1}+a_2Z^{-2}}{1+b_1Z^{-1}+b_2Z^{-2}}$$\n",
    "\n",
    "**Esto es un filtro del tipo iir**\n",
    "\n",
    "\n",
    "![image.png](img/7.3.jpg)\n",
    "\n",
    "$$Y\\left(Z\\right)=a_0X\\left(Z\\right)+O_1\\left(Z\\right)Z^{-1}$$\n",
    "\n",
    "$$O_1\\left(Z\\right)=a_1X\\left(Z\\right)-b_1Y\\left(Z\\right)+O_2\\left(Z\\right)Z^{-1}$$\n",
    "\n",
    "$$O_2\\left(Z\\right)=a_2X\\left(Z\\right)-b_2Y\\left(Z\\right)$$\n",
    "\n",
    "$$O_1\\left(Z\\right)=a_1X\\left(Z\\right)-b_1Y\\left(Z\\right)+\\left(a_2X\\left(Z\\right)-b_2Y\\left(Z\\right)\\right)Z^{-1}$$\n",
    "\n",
    "$$\\therefore Y\\left(Z\\right)=a_0X\\left(Z\\right)+\\left(a_1X\\left(Z\\right)-b_1Y\\left(Z\\right)+\\left(a_2X\\left(Z\\right)-b_2Y\\left(Z\\right)\\right)Z^{-1}\\right)Z^{-1}$$\n",
    "\n",
    "$$Y\\left(Z\\right)=a_0X\\left(Z\\right)+a_1X\\left(Z\\right)Z^{-1}-b_1Y\\left(Z\\right)Z^{-1}+a_2X\\left(Z\\right)Z^{-2}-b_2Y\\left(Z\\right)Z^{-2}$$\n",
    "\n",
    "$$H\\left(Z\\right)=\\frac{a_0+a_1Z^{=1}+a_2Z^{-2}}{1+b_1Z^{=1}+b_2Z^{-2}}$$\n",
    "\n",
    "**Son todos filtros IIR, y son todos iguales. Sólo cambia su forma de representación, las características del filtro no cambian.**"
   ]
  }
 ],
 "metadata": {
  "kernelspec": {
   "display_name": "Python 3 (ipykernel)",
   "language": "python",
   "name": "python3"
  },
  "language_info": {
   "codemirror_mode": {
    "name": "ipython",
    "version": 3
   },
   "file_extension": ".py",
   "mimetype": "text/x-python",
   "name": "python",
   "nbconvert_exporter": "python",
   "pygments_lexer": "ipython3",
   "version": "3.9.7"
  }
 },
 "nbformat": 4,
 "nbformat_minor": 5
}
