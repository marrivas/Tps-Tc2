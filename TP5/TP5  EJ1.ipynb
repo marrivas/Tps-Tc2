{
 "cells": [
  {
   "cell_type": "markdown",
   "id": "466cf6d6",
   "metadata": {},
   "source": [
    "## Parte 2\n",
    "\n",
    "### Ejercicio 1\n",
    "\n",
    "Se desea digitalizar una señal cuyo espectro se muestra a continuación, trazado en azul.\n",
    "\n",
    "\n",
    "<img src=\"img/espectro1.jpg\">\n",
    "\n",
    "El rango de frecuencias de interés se centra entre DC y 10 kHz. Se sabe que el sistema digital introduce un ruido de densidad espectral constante, que se encuentra en 60 dB por debajo del nivel máximo de la señal.\n",
    "\n",
    "Lo primero que se debe hacer es definir una frecuencia de muestreo. Sabemos por el teorema del muestre que $ \\frac{f_s}{2} > B_w$\n",
    "Si para frecuencias mayores a 10KHz no hay informacion entonces $ \\frac{f_s}{2} > 10KHz$\n",
    "\n",
    "Se pide diseñar un filtro anti alias, para lo cual la frecuencia de muestreo es importante ya que va a determinar nuestra $\\omega_c$, en donde la amplitud debe ser menor o igual al piso de ruido para evitar aliasing. \n",
    "\n",
    "#### Diseño del filtro:\n",
    "\n",
    "Se usara un filtro de maxima planicidad, y de orden n = 3 para simplificar el diseño.\n",
    "\n",
    "$\\alpha_{max} = 0.5 dB$\n",
    "\n",
    "En un principio sebuscara un $\\alpha_{min} = 15 dB$ para asi tocar el piso de ruido y evitar el aliasing.\n",
    "\n",
    "Buscamos la $ \\frac{f_s}{2}$ minima para obtener un orden 3:"
   ]
  },
  {
   "cell_type": "code",
   "execution_count": null,
   "id": "816f0168",
   "metadata": {},
   "outputs": [],
   "source": [
    "import numpy as np\n",
    "import math as m\n",
    "\n",
    "fp = 10000\n",
    "alpha_max = 0.5    # dB\n",
    "alpha_min = 15   # dB\n",
    "N = 3\n",
    "\n",
    "epsilon = (m.pow(10, 0.1 * alpha_max) - 1)\n",
    "ws = m.pow(10,((m.log(((m.pow(10, alpha_min * 0.1) - 1) / epsilon),10)) /(2*N)))\n",
    "\n",
    "fs_2 = ws*fp\n",
    "display(fs_2)"
   ]
  },
  {
   "cell_type": "markdown",
   "id": "f153b63a",
   "metadata": {},
   "source": [
    "Vemos que la frecuencia minima para un orden 3 es fs/2 = 25115 Hz.\n",
    "\n",
    "Adopto fs = 52KHz.\n",
    "\n",
    "Ahoro hallo la transferencia del filtro:\n",
    "\n",
    "Buscamos los polos y ceros. Para ello voy a noramlizar epsilon ($\\xi^2 = 1$). Estamos normalizando respecto a $\\omega = \\omega_B$"
   ]
  },
  {
   "cell_type": "code",
   "execution_count": null,
   "id": "c4ed7a2e",
   "metadata": {},
   "outputs": [],
   "source": [
    "from sympy.abc import s\n",
    "from IPython.display import display, Math\n",
    "from splane import pzmap, GroupDelay, bodePlot\n",
    "from scipy.signal import TransferFunction\n",
    "import matplotlib.pyplot as plt\n",
    "\n",
    "coeffs_den=[-1,0,0,0,0,0,1] #max planicidad\n",
    "\n",
    "root = np.roots(coeffs_den)\n",
    "\n",
    "display(root)"
   ]
  },
  {
   "cell_type": "markdown",
   "id": "381f344f",
   "metadata": {},
   "source": [
    "Al ser de orden 3 los angulos entre los polos seran $\\frac{\\pi}{3}$, y habra un polo en el eje real.\n",
    "\n",
    "\n",
    "Finalmente obtengo las transferencias. El $Q = \\frac{1}{2cos(\\psi)}$\n",
    "\n",
    "\\begin{equation}\n",
    "T_1(s) = \\frac{1}{(s+1)(s^2+s+1)}.\n",
    "\\end{equation}\n",
    "\n",
    "reemplazo $s$ por $s/\\omega_B$\n",
    "\n",
    "\\begin{equation}\n",
    "T_1(s) = \\frac{\\omega_B^3}{(s+\\omega_B)(s^2+s\\omega_B+\\omega_B^2)}.\n",
    "\\end{equation}\n",
    "\n",
    "$\\omega_B = \\epsilon^{-1/n}\\omega_p  = 89218 rad/s$\n",
    "\n",
    "Ahora solo nos queda pasar al circuito. Para ello usamos las siguientes ecuaciones:\n",
    "\n",
    "$\\omega_B^2 = \\frac{1}{R_1C_1}$\n",
    "\n",
    "$\\omega_B^2 = \\frac{1}{LC_2}$ y $\\omega_B = \\frac{R_2}{L}$\n",
    "\n",
    "Adoptamos un valor, $C_1=100nF$ y operando nos queda:\n",
    "\n",
    "$R_1=112\\Omega,C_1=100nF$\n",
    "\n",
    "$R_2=89.2\\Omega, L_2=1mH, C_2=125.6nF$\n",
    "\n",
    "El circuito y su transferencia es:\n",
    "\n",
    "<img src=\"img/filtro1.jpg\">\n",
    "\n",
    "Se puede observar que en f=10KHz la atenuacion es 0.5dB, y en fs/2= 26KHz la atenuacion es mayor a 15dB, por lo cual el filtro cumple su objetivo."
   ]
  },
  {
   "cell_type": "markdown",
   "id": "82ee8a93",
   "metadata": {},
   "source": [
    "Si ahora se muestrea a fs=520KHz:"
   ]
  },
  {
   "cell_type": "code",
   "execution_count": null,
   "id": "65e011be",
   "metadata": {},
   "outputs": [],
   "source": [
    "alpha_max = 0.5    # dB\n",
    "alpha_min = 15   # dB\n",
    "w_s_lp = 520000/2/10000\n",
    "\n",
    "epsilon = (m.pow(10, 0.1 * alpha_max) - 1)\n",
    "N = np.log((10**(alpha_min/10) - 1)/(epsilon))/(np.log(w_s_lp)*2)\n",
    "N = m.ceil(N)\n",
    "\n",
    "print(f'epsilon: {epsilon}, N: {N}')"
   ]
  },
  {
   "cell_type": "markdown",
   "id": "7670c9c7",
   "metadata": {},
   "source": [
    "El filtro sera ahora de orden n=1 ya que los requisitos del filtro son menos exigentes.\n",
    "\n",
    "\\begin{equation}\n",
    "T(s) = \\frac{\\omega_B}{(s+\\omega_B)}\n",
    "\\end{equation}\n",
    "\n",
    "$\\omega_B = \\epsilon^{-1/n}\\omega_p  = 179887 rad/s$\n",
    "\n",
    "Esto se logra con circuito RC:\n",
    "\n",
    "Adoptamos un valor, $C_1=10nF$ y operando nos queda:\n",
    "\n",
    "$R_1=555\\Omega,C_1=10nF$\n",
    "\n",
    "<img src=\"img/filtro2.jpg\">\n",
    "\n",
    "Se puede observar que en f=10KHz la atenuacion es 0.5dB, y en fs/2= 260KHz la atenuacion es mayor a 15dB, por lo cual el filtro cumple su objetivo.\n",
    "\n",
    "Al hacer esta modificacion en la frecuencia de muestreo logramos bajar el orden del filtro, lo cual es una ventaja. Por el otro lado, un aumento en la frecuancia de muestreo implica un mayor consumo de energia y memoria."
   ]
  },
  {
   "cell_type": "markdown",
   "id": "e397bbec",
   "metadata": {},
   "source": [
    "Si ahora se quiere una fase lineal hasta f=10KHz tenemos que recurrir a un filtro Bessel:\n"
   ]
  }
 ],
 "metadata": {
  "kernelspec": {
   "display_name": "Python 3 (ipykernel)",
   "language": "python",
   "name": "python3"
  },
  "language_info": {
   "codemirror_mode": {
    "name": "ipython",
    "version": 3
   },
   "file_extension": ".py",
   "mimetype": "text/x-python",
   "name": "python",
   "nbconvert_exporter": "python",
   "pygments_lexer": "ipython3",
   "version": "3.9.7"
  }
 },
 "nbformat": 4,
 "nbformat_minor": 5
}
