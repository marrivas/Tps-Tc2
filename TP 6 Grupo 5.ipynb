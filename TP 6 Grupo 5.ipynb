{
 "cells": [
  {
   "cell_type": "markdown",
   "id": "9f702eca",
   "metadata": {},
   "source": [
    "### Ejercicio 1\n",
    "\n",
    "<div>\n",
    "<img src=\"img/ejercicio1Tp6.PNG\" alt=\"Drawing\" style=\"width: 600px;\"/>\n",
    "</div>"
   ]
  },
  {
   "cell_type": "code",
   "execution_count": 1,
   "id": "6e4dc366",
   "metadata": {},
   "outputs": [
    {
     "data": {
      "text/html": [
       "\n",
       "        <iframe\n",
       "            width=\"900\"\n",
       "            height=\"500\"\n",
       "            src=\"pdf/Tp6 ej1 tc2.pdf\"\n",
       "            frameborder=\"0\"\n",
       "            allowfullscreen\n",
       "            \n",
       "        ></iframe>\n",
       "        "
      ],
      "text/plain": [
       "<IPython.lib.display.IFrame at 0x2225a28c3d0>"
      ]
     },
     "execution_count": 1,
     "metadata": {},
     "output_type": "execute_result"
    }
   ],
   "source": [
    "from IPython.display import IFrame\n",
    "IFrame(\"pdf/Tp6 ej1 tc2.pdf\", width=900, height=500)"
   ]
  },
  {
   "cell_type": "code",
   "execution_count": 6,
   "id": "0aa87a35",
   "metadata": {},
   "outputs": [
    {
     "data": {
      "text/latex": [
       "$\\displaystyle  [Y_{MAI}] = \\left[\\begin{matrix}C_{1} & - C_{1} & 0 & 0 & 0\\\\- C_{1} & C_{1} + C_{2} + L_{2} & - C_{2} - L_{2} & 0 & 0\\\\0 & - C_{2} - L_{2} & C_{2} + C_{3} + L_{2} + L_{3} & - C_{3} - L_{3} & 0\\\\0 & 0 & - C_{3} - L_{3} & C_{3} + L_{3} + L_{4} & - L_{4}\\\\0 & 0 & 0 & - L_{4} & L_{4}\\end{matrix}\\right]$"
      ],
      "text/plain": [
       "<IPython.core.display.Math object>"
      ]
     },
     "metadata": {},
     "output_type": "display_data"
    },
    {
     "data": {
      "text/latex": [
       "$\\displaystyle  [Y^{ 00 }_{ 44 } ] = \\left[\\begin{matrix}C_{1} + C_{2} + L_{2} & - C_{2} - L_{2} & 0\\\\- C_{2} - L_{2} & C_{2} + C_{3} + L_{2} + L_{3} & - C_{3} - L_{3}\\\\0 & - C_{3} - L_{3} & C_{3} + L_{3} + L_{4}\\end{matrix}\\right]$"
      ],
      "text/plain": [
       "<IPython.core.display.Math object>"
      ]
     },
     "metadata": {},
     "output_type": "display_data"
    },
    {
     "data": {
      "text/latex": [
       "$\\displaystyle [Y^{ 0 }_{ 0 }] = \\left[\\begin{matrix}C_{1} + C_{2} + L_{2} & - C_{2} - L_{2} & 0 & 0\\\\- C_{2} - L_{2} & C_{2} + C_{3} + L_{2} + L_{3} & - C_{3} - L_{3} & 0\\\\0 & - C_{3} - L_{3} & C_{3} + L_{3} + L_{4} & - L_{4}\\\\0 & 0 & - L_{4} & L_{4}\\end{matrix}\\right]$"
      ],
      "text/plain": [
       "<IPython.core.display.Math object>"
      ]
     },
     "metadata": {},
     "output_type": "display_data"
    },
    {
     "data": {
      "text/latex": [
       "$\\displaystyle Z_{ 04 } = \\frac{ \\underline{Y}^{ 00 }_{ 44 } }{ \\underline{Y}^{ 0 }_{ 0 } } = \\frac{C_{1} C_{2} C_{3} + C_{1} C_{2} L_{3} + C_{1} C_{2} L_{4} + C_{1} C_{3} L_{2} + C_{1} C_{3} L_{4} + C_{1} L_{2} L_{3} + C_{1} L_{2} L_{4} + C_{1} L_{3} L_{4} + C_{2} C_{3} L_{4} + C_{2} L_{3} L_{4} + C_{3} L_{2} L_{4} + L_{2} L_{3} L_{4}}{C_{1} L_{4} \\left(C_{2} C_{3} + C_{2} L_{3} + C_{3} L_{2} + L_{2} L_{3}\\right)}$"
      ],
      "text/plain": [
       "<IPython.core.display.Math object>"
      ]
     },
     "metadata": {},
     "output_type": "display_data"
    },
    {
     "data": {
      "text/latex": [
       "$\\displaystyle  [Y_{MAI}] = \\left[\\begin{matrix}0.2 s & - 0.2 s & 0 & 0 & 0\\\\- 0.2 s & 0.377777777777778 s + \\frac{1.77777777777778}{s} & - 0.177777777777778 s - \\frac{1.77777777777778}{s} & 0 & 0\\\\0 & - 0.177777777777778 s - \\frac{1.77777777777778}{s} & 0.474074074074074 s + \\frac{2.37037037037037}{s} & - 0.296296296296296 s - \\frac{0.592592592592593}{s} & 0\\\\0 & 0 & - 0.296296296296296 s - \\frac{0.592592592592593}{s} & 0.296296296296296 s + \\frac{1.59259259259259}{s} & - \\frac{1}{s}\\\\0 & 0 & 0 & - \\frac{1}{s} & \\frac{1}{s}\\end{matrix}\\right]$"
      ],
      "text/plain": [
       "<IPython.core.display.Math object>"
      ]
     },
     "metadata": {},
     "output_type": "display_data"
    },
    {
     "data": {
      "text/latex": [
       "$\\displaystyle  [Y^{ 00 }_{ 44 } ] = \\left[\\begin{matrix}0.377777777777778 s + \\frac{1.77777777777778}{s} & - 0.177777777777778 s - \\frac{1.77777777777778}{s} & 0\\\\- 0.177777777777778 s - \\frac{1.77777777777778}{s} & 0.474074074074074 s + \\frac{2.37037037037037}{s} & - 0.296296296296296 s - \\frac{0.592592592592593}{s}\\\\0 & - 0.296296296296296 s - \\frac{0.592592592592593}{s} & 0.296296296296296 s + \\frac{1.59259259259259}{s}\\end{matrix}\\right]$"
      ],
      "text/plain": [
       "<IPython.core.display.Math object>"
      ]
     },
     "metadata": {},
     "output_type": "display_data"
    },
    {
     "data": {
      "text/latex": [
       "$\\displaystyle [Y^{ 0 }_{ 0 }] = \\left[\\begin{matrix}0.377777777777778 s + \\frac{1.77777777777778}{s} & - 0.177777777777778 s - \\frac{1.77777777777778}{s} & 0 & 0\\\\- 0.177777777777778 s - \\frac{1.77777777777778}{s} & 0.474074074074074 s + \\frac{2.37037037037037}{s} & - 0.296296296296296 s - \\frac{0.592592592592593}{s} & 0\\\\0 & - 0.296296296296296 s - \\frac{0.592592592592593}{s} & 0.296296296296296 s + \\frac{1.59259259259259}{s} & - \\frac{1}{s}\\\\0 & 0 & - \\frac{1}{s} & \\frac{1}{s}\\end{matrix}\\right]$"
      ],
      "text/plain": [
       "<IPython.core.display.Math object>"
      ]
     },
     "metadata": {},
     "output_type": "display_data"
    },
    {
     "data": {
      "text/latex": [
       "$\\displaystyle Z_{ 04 } = \\frac{ \\underline{Y}^{ 00 }_{ 44 } }{ \\underline{Y}^{ 0 }_{ 0 } } = \\frac{s \\left(8.43712636348193 \\cdot 10^{-17} s^{66} + 1.31371020494922 \\cdot 10^{-14} s^{64} + 9.77353350185224 \\cdot 10^{-13} s^{62} + 4.63383140962338 \\cdot 10^{-11} s^{60} + 1.57499177105051 \\cdot 10^{-9} s^{58} + 4.09171750847197 \\cdot 10^{-8} s^{56} + 8.45743869493383 \\cdot 10^{-7} s^{54} + 1.42919948078696 \\cdot 10^{-5} s^{52} + 0.000201328336773182 s^{50} + 0.00239829987552706 s^{48} + 0.02442194424853 s^{46} + 0.214339498706398 s^{44} + 1.63146160145475 s^{42} + 10.8200176143639 s^{40} + 62.7356917738857 s^{38} + 318.722062703015 s^{36} + 1420.57636847615 s^{34} + 5556.71505281564 s^{32} + 19064.9734072435 s^{30} + 57292.8240936262 s^{28} + 150451.063069564 s^{26} + 344095.786006822 s^{24} + 682390.86732402 s^{22} + 1166766.24267958 s^{20} + 1707622.43572627 s^{18} + 2119745.75563338 s^{16} + 2205963.93413414 s^{14} + 1895783.23341813 s^{12} + 1318763.50990701 s^{10} + 722364.889090861 s^{8} + 299290.173274097 s^{6} + 87988.7407009525 s^{4} + 16327.3959921323 s^{2} + 1435.37547183581\\right)}{8.43712636348194 \\cdot 10^{-17} s^{66} + 1.19559043586047 \\cdot 10^{-14} s^{64} + 8.15286078773752 \\cdot 10^{-13} s^{62} + 3.56289331201397 \\cdot 10^{-11} s^{60} + 1.12113999580281 \\cdot 10^{-9} s^{58} + 2.70590574804827 \\cdot 10^{-8} s^{56} + 5.21008918651116 \\cdot 10^{-7} s^{54} + 8.218536673915 \\cdot 10^{-6} s^{52} + 0.000108233177756258 s^{50} + 0.00120659921519545 s^{48} + 0.0115055290083129 s^{46} + 0.0945768533081068 s^{44} + 0.674125237332702 s^{42} + 4.18443107095409 s^{40} + 22.6865873331436 s^{38} + 107.633038012661 s^{36} + 447.229444322523 s^{34} + 1627.31869130726 s^{32} + 5179.81109498414 s^{30} + 14393.9367216144 s^{28} + 34813.8095722339 s^{26} + 72982.7761358313 s^{24} + 131889.512574899 s^{22} + 204017.069554622 s^{20} + 267724.20049599 s^{18} + 294625.673226919 s^{16} + 267862.194899481 s^{14} + 197219.285345172 s^{12} + 114397.889505871 s^{10} + 50216.3910903066 s^{8} + 15648.1494055695 s^{6} + 3078.8803870878 s^{4} + 287.075094367163 s^{2} - 2.27373675443232 \\cdot 10^{-13}}$"
      ],
      "text/plain": [
       "<IPython.core.display.Math object>"
      ]
     },
     "metadata": {},
     "output_type": "display_data"
    },
    {
     "name": "stdout",
     "output_type": "stream",
     "text": [
      "Imposible verificar por errores decimales\n"
     ]
    }
   ],
   "source": [
    "### Simulando la MAI\n",
    "### Nos dimos cuenta que por las fracciones que nos dieron\n",
    "### los numeros decimales en el Python nunca se simplificaban\n",
    "### Por lo que fue imposible comprobar\n",
    "\n",
    "\"\"\"\n",
    "Created on Sat Oct  1 19:02:44 2022\n",
    "\n",
    "@author: marti\n",
    "\"\"\"\n",
    "\n",
    "import sympy as sp\n",
    "from splane import print_latex, calc_MAI_impedance_ij, calc_MAI_vtransf_ij_mn, calc_MAI_ztransf_ij_mn\n",
    "\n",
    "\n",
    "# T puenteado cargado: red de R constante\n",
    "# explicación:\n",
    "'''    \n",
    "+ Numeramos los polos de 0 a n=3\n",
    "                       /--L2---|---L3----/\n",
    "                      /       |          /\n",
    "    1-------+--C1----2---C2---3---C3----4---L4---\n",
    "                                                /\n",
    "                                                /\n",
    "                                                / \n",
    "    5---------------+---------------------------\n",
    "    \n",
    "'''    \n",
    "\n",
    "C1, C2, C3 = sp.symbols('C1 C2 C3', complex=True)\n",
    "L2, L3, L4 = sp.symbols('L2 L3 L4', complex=True, positive=False)\n",
    "\n",
    "# Armo la MAI\n",
    "\n",
    "#               Nodos: 1      2         3             4         5\n",
    "Ymai = sp.Matrix([  \n",
    "                    [ C1,   -C1,        0,            0,        0   ],\n",
    "                    [ -C1,  C1+C2+L2,   -L2-C2,       0,        0   ],\n",
    "                    [ 0,   -C2-L2,      C2+L2+C3+L3,  -C3-L3,   0   ],\n",
    "                    [ 0,    0,          -C3-L3,       L3+C3+L4, -L4 ],\n",
    "                    [ 0,    0,          0,            -L4,      L4  ]\n",
    "                 ])\n",
    "\n",
    "# con_detalles = False\n",
    "con_detalles = True\n",
    "\n",
    "# Calculo la Z en el puerto de entrada a partir de la MAI\n",
    "Zmai = calc_MAI_impedance_ij(Ymai, 0, 4, verbose=con_detalles)\n",
    "\n",
    "s = sp.symbols('s ', complex=True)\n",
    "\n",
    "C1 =  1/5  * s\n",
    "C2 =  8/45 * s\n",
    "C3 =  8/27 * s\n",
    "\n",
    "L2 = 16/9  * 1/s\n",
    "L3 = 16/27 * 1/s\n",
    "L4 = 1/s   \n",
    "\n",
    "# Armo la MAI\n",
    "\n",
    "#               Nodos: 1      2         3             4         5\n",
    "Ymai = sp.Matrix([  \n",
    "                    [ C1,   -C1,        0,            0,        0   ],\n",
    "                    [ -C1,  C1+C2+L2,   -L2-C2,       0,        0   ],\n",
    "                    [ 0,   -C2-L2,      C2+L2+C3+L3,  -C3-L3,   0   ],\n",
    "                    [ 0,    0,          -C3-L3,       L3+C3+L4, -L4 ],\n",
    "                    [ 0,    0,          0,            -L4,      L4  ]\n",
    "                 ])\n",
    "\n",
    "# con_detalles = False\n",
    "con_detalles = True\n",
    "\n",
    "# Calculo la Z en el puerto de entrada a partir de la MAI\n",
    "Zmai = calc_MAI_impedance_ij(Ymai, 0, 4, verbose=con_detalles)\n",
    "\n",
    "print(\"Imposible verificar por errores decimales\")"
   ]
  },
  {
   "cell_type": "markdown",
   "id": "e0d04ac4",
   "metadata": {},
   "source": [
    "### Ejercicio 2"
   ]
  },
  {
   "cell_type": "code",
   "execution_count": 9,
   "id": "43b855d5",
   "metadata": {},
   "outputs": [
    {
     "data": {
      "text/html": [
       "\n",
       "        <iframe\n",
       "            width=\"1000\"\n",
       "            height=\"500\"\n",
       "            src=\"./pdf/ej2.pdf\"\n",
       "            frameborder=\"0\"\n",
       "            allowfullscreen\n",
       "            \n",
       "        ></iframe>\n",
       "        "
      ],
      "text/plain": [
       "<IPython.lib.display.IFrame at 0x2225fbf8700>"
      ]
     },
     "execution_count": 9,
     "metadata": {},
     "output_type": "execute_result"
    }
   ],
   "source": [
    "from IPython.display import IFrame\n",
    "IFrame(\"./pdf/ej2.pdf\", width=1000, height=500)"
   ]
  },
  {
   "cell_type": "code",
   "execution_count": 10,
   "id": "8ea4de2a",
   "metadata": {},
   "outputs": [
    {
     "name": "stdout",
     "output_type": "stream",
     "text": [
      "Componentes normalizados Foster Serie:\n",
      "C1=2.6667 - C2=4.0000 - C3=2.6667 - L2=0.1250 - L3=0.0938\n",
      "Componentes desnormalizados Foster Serie:\n",
      "C1=3.419e-09 F - C2=5.128e-09 F - C3=3.419e-09 F - L2=2.308e-04 Hy - L3=1.731e-04 Hy\n"
     ]
    }
   ],
   "source": [
    "norma_z = 1200\n",
    "norma_w = 650e3\n",
    "\n",
    "# Foster Serie\n",
    "C_1 = 8/3\n",
    "C_2 = 4\n",
    "C_3 = 8/3\n",
    "L_2 = 1/8\n",
    "L_3 = 3/32\n",
    "\n",
    "print('Componentes normalizados Foster Serie:')\n",
    "print('C1={:.4f} - C2={:.4f} - C3={:.4f} - L2={:.4f} - L3={:.4f}'.format(C_1, C_2, C_3, L_2, L_3))\n",
    "\n",
    "C_1 = C_1/(norma_z*norma_w)\n",
    "C_2 = C_2/(norma_z*norma_w)\n",
    "C_3 = C_3/(norma_z*norma_w)\n",
    "L_2 = (L_2*norma_z)/norma_w\n",
    "L_3 = (L_3*norma_z)/norma_w\n",
    "\n",
    "print('Componentes desnormalizados Foster Serie:')\n",
    "print('C1={:.3e} F - C2={:.3e} F - C3={:.3e} F - L2={:.3e} Hy - L3={:.3e} Hy'.format(C_1, C_2, C_3, L_2, L_3))"
   ]
  },
  {
   "cell_type": "code",
   "execution_count": 11,
   "id": "17d07a90",
   "metadata": {},
   "outputs": [
    {
     "name": "stdout",
     "output_type": "stream",
     "text": [
      "Componentes normalizados Foster Paralelo:\n",
      "C1=1.5000 - C2=0.1667 - C3=1.0000 - L1=0.6667 - L2=2.0000\n",
      "Componentes desnormalizados Foster Paralelo:\n",
      "C1=1.923e-09 F - C2=2.137e-10 F - C3=1.282e-09 F - L1=1.231e-03 Hy - L2=3.692e-03 Hy\n"
     ]
    }
   ],
   "source": [
    "# Foster Paralelo\n",
    "C_1 = 3/2\n",
    "C_2 = 1/6\n",
    "C_3 = 1\n",
    "L_1 = 2/3\n",
    "L_2 = 2\n",
    "\n",
    "print('Componentes normalizados Foster Paralelo:')\n",
    "print('C1={:.4f} - C2={:.4f} - C3={:.4f} - L1={:.4f} - L2={:.4f}'.format(C_1, C_2, C_3, L_1, L_2))\n",
    "\n",
    "C_1 = C_1/(norma_z*norma_w)\n",
    "C_2 = C_2/(norma_z*norma_w)\n",
    "C_3 = C_3/(norma_z*norma_w)\n",
    "L_1 = (L_1*norma_z)/norma_w\n",
    "L_2 = (L_2*norma_z)/norma_w\n",
    "\n",
    "print('Componentes desnormalizados Foster Paralelo:')\n",
    "print('C1={:.3e} F - C2={:.3e} F - C3={:.3e} F - L1={:.3e} Hy - L2={:.3e} Hy'.format(C_1, C_2, C_3, L_1, L_2))"
   ]
  },
  {
   "cell_type": "code",
   "execution_count": 12,
   "id": "dc5ccd04",
   "metadata": {},
   "outputs": [
    {
     "name": "stdout",
     "output_type": "stream",
     "text": [
      "Componentes normalizados Cauer I:\n",
      "C1=0.5000 - C2=1.5000 - L1=1.0000 - L2=1.3333 - L3=0.3333\n",
      "Componentes desnormalizados Cauer I:\n",
      "C1=6.410e-10 F - C2=1.923e-09 F - L1=1.846e-03 Hy - L2=2.462e-03 Hy - L3=4.544e-06 Hy\n"
     ]
    }
   ],
   "source": [
    "# Cauer I\n",
    "L_1 = 1\n",
    "L_2 = 4/3\n",
    "L_3 = 1/3\n",
    "C_1 = 1/2\n",
    "C_2 = 3/2\n",
    "\n",
    "print('Componentes normalizados Cauer I:')\n",
    "print('C1={:.4f} - C2={:.4f} - L1={:.4f} - L2={:.4f} - L3={:.4f}'.format(C_1, C_2, L_1, L_2, L_3))\n",
    "\n",
    "C_1 = C_1/(norma_z*norma_w)\n",
    "C_2 = C_2/(norma_z*norma_w)\n",
    "L_1 = (L_1*norma_z)/norma_w\n",
    "L_2 = (L_2*norma_z)/norma_w\n",
    "L_3 = (L_2*norma_z)/norma_w\n",
    "\n",
    "print('Componentes desnormalizados Cauer I:')\n",
    "print('C1={:.3e} F - C2={:.3e} F - L1={:.3e} Hy - L2={:.3e} Hy - L3={:.3e} Hy'.format(C_1, C_2, L_1, L_2, L_3))"
   ]
  },
  {
   "cell_type": "code",
   "execution_count": 13,
   "id": "38f65b1a",
   "metadata": {},
   "outputs": [
    {
     "name": "stdout",
     "output_type": "stream",
     "text": [
      "Componentes normalizados Cauer II:\n",
      "C1=0.3750 - C2=0.0715 - C3=0.0682 - L1=0.4267 - L2=1.8580\n",
      "Componentes desnormalizados Cauer II:\n",
      "C1=4.808e-10 F - C2=9.171e-11 F - C3=8.741e-11 F - L1=7.877e-04 Hy - L2=3.430e-03 Hy\n"
     ]
    }
   ],
   "source": [
    "# Cauer II\n",
    "L_1 = 32/75\n",
    "L_2 = 968/521\n",
    "C_1 = 3/8\n",
    "C_2 = 49/685\n",
    "C_3 = 3/44\n",
    "\n",
    "print('Componentes normalizados Cauer II:')\n",
    "print('C1={:.4f} - C2={:.4f} - C3={:.4f} - L1={:.4f} - L2={:.4f}'.format(C_1, C_2, C_3, L_1, L_2))\n",
    "\n",
    "C_1 = C_1/(norma_z*norma_w)\n",
    "C_2 = C_2/(norma_z*norma_w)\n",
    "C_3 = C_3/(norma_z*norma_w)\n",
    "L_1 = (L_1*norma_z)/norma_w\n",
    "L_2 = (L_2*norma_z)/norma_w\n",
    "\n",
    "print('Componentes desnormalizados Cauer II:')\n",
    "print('C1={:.3e} F - C2={:.3e} F - C3={:.3e} F - L1={:.3e} Hy - L2={:.3e} Hy'.format(C_1, C_2, C_3, L_1, L_2))"
   ]
  },
  {
   "cell_type": "markdown",
   "id": "3b4f29c4",
   "metadata": {},
   "source": [
    "### Ejercicio 3"
   ]
  },
  {
   "cell_type": "code",
   "execution_count": 8,
   "id": "ae01637e",
   "metadata": {},
   "outputs": [
    {
     "data": {
      "text/html": [
       "\n",
       "        <iframe\n",
       "            width=\"900\"\n",
       "            height=\"500\"\n",
       "            src=\"pdf/Eje3.pdf\"\n",
       "            frameborder=\"0\"\n",
       "            allowfullscreen\n",
       "            \n",
       "        ></iframe>\n",
       "        "
      ],
      "text/plain": [
       "<IPython.lib.display.IFrame at 0x2225a28c400>"
      ]
     },
     "execution_count": 8,
     "metadata": {},
     "output_type": "execute_result"
    }
   ],
   "source": [
    "from IPython.display import IFrame\n",
    "IFrame(\"pdf/Eje3.pdf\", width=900, height=500)"
   ]
  },
  {
   "cell_type": "markdown",
   "id": "de86d786",
   "metadata": {},
   "source": [
    "## Ejercicio 4\n",
    "\n",
    "Encuentre el valor de los elementos que integran el siguiente dipolo y que satisface la función de excitación propuesta:\n",
    "\n",
    "$$Z(s)=\\frac{s^2+10s+24}{s^2+12s+20}$$\n",
    "\n",
    "Circuito:\n",
    "\n",
    "![ejercicio4](img/4.png)"
   ]
  },
  {
   "cell_type": "code",
   "execution_count": 7,
   "id": "5873e699",
   "metadata": {},
   "outputs": [
    {
     "name": "stdout",
     "output_type": "stream",
     "text": [
      "La impedancia del tanque RC es: \n"
     ]
    },
    {
     "data": {
      "text/latex": [
       "$\\displaystyle \\frac{1}{s + 2}$"
      ],
      "text/plain": [
       "1/(s + 2)"
      ]
     },
     "metadata": {},
     "output_type": "display_data"
    },
    {
     "name": "stdout",
     "output_type": "stream",
     "text": [
      "La impedancia la R serie es: \n"
     ]
    },
    {
     "data": {
      "text/latex": [
       "$\\displaystyle 0.7$"
      ],
      "text/plain": [
       "0.700000000000000"
      ]
     },
     "metadata": {},
     "output_type": "display_data"
    },
    {
     "name": "stdout",
     "output_type": "stream",
     "text": [
      "La impedancia del tanque RL es: \n"
     ]
    },
    {
     "data": {
      "text/latex": [
       "$\\displaystyle \\frac{0.3 s}{s + 10}$"
      ],
      "text/plain": [
       "0.3*s/(s + 10)"
      ]
     },
     "metadata": {},
     "output_type": "display_data"
    },
    {
     "name": "stdout",
     "output_type": "stream",
     "text": [
      "La suma de las impedancias es: \n"
     ]
    },
    {
     "data": {
      "text/latex": [
       "$\\displaystyle \\frac{0.3 s}{s + 10} + 0.7 + \\frac{1}{s + 2}$"
      ],
      "text/plain": [
       "0.3*s/(s + 10) + 0.7 + 1/(s + 2)"
      ]
     },
     "metadata": {},
     "output_type": "display_data"
    },
    {
     "name": "stdout",
     "output_type": "stream",
     "text": [
      "La suma de las impedancias simplificada es: \n"
     ]
    },
    {
     "data": {
      "text/latex": [
       "$\\displaystyle \\frac{1.0 s^{2} + 10.0 s + 24.0}{1.0 s^{2} + 12.0 s + 20.0}$"
      ],
      "text/plain": [
       "(1.0*s**2 + 10.0*s + 24.0)/(1.0*s**2 + 12.0*s + 20.0)"
      ]
     },
     "metadata": {},
     "output_type": "display_data"
    }
   ],
   "source": [
    "import sympy as sp\n",
    "\n",
    "# Resolución simbólica\n",
    "\n",
    "s = sp.symbols('s ', complex=True)\n",
    "\n",
    "# Impedancia del tanque RC\n",
    "\n",
    "ZRC = 1/(s+2)\n",
    "print(\"La impedancia del tanque RC es: \")\n",
    "display(ZRC)\n",
    "\n",
    "# Impedancia de la resistencia serie\n",
    "\n",
    "ZR = 7/10 *s/s\n",
    "print(\"La impedancia la R serie es: \")\n",
    "display(ZR)\n",
    "\n",
    "# Impedancia del tanque RL\n",
    "\n",
    "ZLR = 3/10*s/(s+10) \n",
    "print(\"La impedancia del tanque RL es: \")\n",
    "display(ZLR)\n",
    "\n",
    "# Sumo las impedancias\n",
    "print(\"La suma de las impedancias es: \")\n",
    "display(ZLR+ZRC+ZR)\n",
    "\n",
    "# Simplifico la suma para corroborar que la función impedancia del dipolo sea la misma\n",
    "print(\"La suma de las impedancias simplificada es: \")\n",
    "display(sp.cancel(ZLR+ZRC+ZR))\n"
   ]
  }
 ],
 "metadata": {
  "kernelspec": {
   "display_name": "Python 3 (ipykernel)",
   "language": "python",
   "name": "python3"
  },
  "language_info": {
   "codemirror_mode": {
    "name": "ipython",
    "version": 3
   },
   "file_extension": ".py",
   "mimetype": "text/x-python",
   "name": "python",
   "nbconvert_exporter": "python",
   "pygments_lexer": "ipython3",
   "version": "3.9.7"
  }
 },
 "nbformat": 4,
 "nbformat_minor": 5
}
